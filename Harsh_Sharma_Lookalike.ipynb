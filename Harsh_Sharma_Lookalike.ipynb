{
  "nbformat": 4,
  "nbformat_minor": 0,
  "metadata": {
    "colab": {
      "provenance": []
    },
    "kernelspec": {
      "name": "python3",
      "display_name": "Python 3"
    },
    "language_info": {
      "name": "python"
    }
  },
  "cells": [
    {
      "cell_type": "code",
      "execution_count": 6,
      "metadata": {
        "id": "pGUYCD6IHdUE"
      },
      "outputs": [],
      "source": [
        "import pandas as pd\n",
        "import matplotlib.pyplot as plt\n",
        "import seaborn as sns\n",
        "from sklearn.metrics.pairwise import cosine_similarity\n",
        "import numpy as np\n",
        "\n",
        "\n",
        "# Load the datasets\n",
        "customers = pd.read_csv('Customers.csv')\n",
        "products = pd.read_csv('Products.csv')\n",
        "transactions = pd.read_csv('Transactions.csv')\n"
      ]
    },
    {
      "cell_type": "code",
      "source": [
        "# Merge datasets for customer-product data\n",
        "merged = pd.merge(transactions, customers, on='CustomerID')\n",
        "customer_product_matrix = merged.pivot_table(index='CustomerID', columns='ProductID', values='Quantity', fill_value=0)\n"
      ],
      "metadata": {
        "id": "S3iLPUmDH1TK"
      },
      "execution_count": 7,
      "outputs": []
    },
    {
      "cell_type": "code",
      "source": [
        "\n",
        "# Compute cosine similarity\n",
        "similarity_matrix = cosine_similarity(customer_product_matrix)\n",
        "similarity_df = pd.DataFrame(similarity_matrix, index=customer_product_matrix.index, columns=customer_product_matrix.index)\n",
        "\n",
        "\n"
      ],
      "metadata": {
        "id": "wAGVgQA0ISV9"
      },
      "execution_count": 8,
      "outputs": []
    },
    {
      "cell_type": "code",
      "source": [
        "# Get top 3 similar customers for the first 20 customers\n",
        "lookalikes = {}\n",
        "for customer_id in similarity_df.index[:20]:\n",
        "    similar_customers = similarity_df.loc[customer_id].sort_values(ascending=False)[1:4]\n",
        "    lookalikes[customer_id] = [(cust_id, round(score, 2)) for cust_id, score in similar_customers.items()]\n",
        "\n",
        "# Save to Lookalike.csv\n",
        "import csv\n",
        "with open('FirstName_LastName_Lookalike.csv', mode='w', newline='') as file:\n",
        "    writer = csv.writer(file)\n",
        "    writer.writerow(['CustomerID', 'Lookalikes'])\n",
        "    for cust_id, lookalike_data in lookalikes.items():\n",
        "        writer.writerow([cust_id, lookalike_data])"
      ],
      "metadata": {
        "id": "zGn0AihFIVYV"
      },
      "execution_count": 9,
      "outputs": []
    },
    {
      "cell_type": "code",
      "source": [],
      "metadata": {
        "id": "LLTKyu_QIWdb"
      },
      "execution_count": null,
      "outputs": []
    }
  ]
}